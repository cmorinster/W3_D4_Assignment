{
 "cells": [
  {
   "cell_type": "code",
   "execution_count": 7,
   "id": "8dfcc630",
   "metadata": {},
   "outputs": [
    {
     "name": "stdout",
     "output_type": "stream",
     "text": [
      "What is the name you would like to add?:Henry Thomas\n",
      "What is the address of that person?:45 Pond St.\n",
      "Would you like to add another?  type 'y' to continuey\n",
      "What is the name you would like to add?:Megan Smith\n",
      "What is the address of that person?:34 Gordon Lane\n",
      "Would you like to add another?  type 'y' to continuey\n",
      "What is the name you would like to add?:Florence Henderson\n",
      "What is the address of that person?:36 Boston Ave.\n",
      "Would you like to add another?  type 'y' to continuen\n",
      "{'Henry Thomas': '45 Pond St.', 'Megan Smith': '34 Gordon Lane', 'Florence Henderson': '36 Boston Ave.'}\n"
     ]
    }
   ],
   "source": [
    "#from IPython.display import clear_output\n",
    "\n",
    "\n",
    "def user_input():\n",
    "    address_book = {}\n",
    "    ask='y'\n",
    "    while ask == \"y\":\n",
    "        name = input(\"What is the name you would like to add?: \")\n",
    "        address = input(\"What is the address of that person?: \")\n",
    "        address_book[name]=address\n",
    "        ask = input(\"Would you like to add another?  type 'y' to continue: \")\n",
    "\n",
    "    return address_book\n",
    "\n",
    "print(user_input())\n",
    "        "
   ]
  },
  {
   "cell_type": "code",
   "execution_count": 12,
   "id": "f49696f4",
   "metadata": {},
   "outputs": [
    {
     "name": "stdout",
     "output_type": "stream",
     "text": [
      "{'14:30', '12:00'}\n"
     ]
    }
   ],
   "source": [
    "person1 = ['09:00', '10:30', '11:30', '12:00', '13:00', '14:30']\n",
    "person2 = ['09:30', '10:00', '10:30', '12:00', '14:30', '16:00']\n",
    "person3 = ['09:00', '09:30', '11:00', '11:30', '12:00', '13:30', '14:30', '15:00']\n",
    "person4 = ['11:00', '11:30', '12:00', '14:00', '14:30', '16:30', '17:00']\n",
    "\n",
    "def best_times(person_1, *persons):\n",
    "    new_set = set()\n",
    "    existing_set = set(person_1)\n",
    "    for person in persons:\n",
    "        new_set = set(person)\n",
    "        existing_set = new_set & existing_set\n",
    "    return(existing_set)\n",
    "\n",
    "\n",
    "        \n",
    "        \n",
    "\n",
    "print(best_times(person1, person2, person3, person4))\n",
    "    \n"
   ]
  },
  {
   "cell_type": "code",
   "execution_count": null,
   "id": "ee580870",
   "metadata": {},
   "outputs": [],
   "source": []
  },
  {
   "cell_type": "code",
   "execution_count": null,
   "id": "86dc7fc9",
   "metadata": {},
   "outputs": [],
   "source": []
  }
 ],
 "metadata": {
  "kernelspec": {
   "display_name": "Python 3 (ipykernel)",
   "language": "python",
   "name": "python3"
  },
  "language_info": {
   "codemirror_mode": {
    "name": "ipython",
    "version": 3
   },
   "file_extension": ".py",
   "mimetype": "text/x-python",
   "name": "python",
   "nbconvert_exporter": "python",
   "pygments_lexer": "ipython3",
   "version": "3.9.13"
  }
 },
 "nbformat": 4,
 "nbformat_minor": 5
}
